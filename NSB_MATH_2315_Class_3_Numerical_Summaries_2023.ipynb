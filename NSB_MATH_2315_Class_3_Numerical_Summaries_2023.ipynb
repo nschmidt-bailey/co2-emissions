{
  "nbformat": 4,
  "nbformat_minor": 0,
  "metadata": {
    "colab": {
      "provenance": []
    },
    "kernelspec": {
      "name": "python3",
      "display_name": "Python 3"
    },
    "language_info": {
      "name": "python"
    }
  },
  "cells": [
    {
      "cell_type": "markdown",
      "source": [
        "# Homework Problems"
      ],
      "metadata": {
        "id": "qNIjSW0ne6sR"
      }
    },
    {
      "cell_type": "markdown",
      "source": [
        "To prepare for class, complete the sections \n",
        "1. Imports\n",
        "2. Import and set up the data set\n",
        "3. Visualize the distribution of CO$_2$ emissions per capita in 2010"
      ],
      "metadata": {
        "id": "1jVY6jtujphc"
      }
    },
    {
      "cell_type": "markdown",
      "source": [
        "## Daily experts"
      ],
      "metadata": {
        "id": "UgPdc8Dlj3Hg"
      }
    },
    {
      "cell_type": "markdown",
      "source": [
        "The topics for the class that I need daily experts on are:\n",
        "\n",
        "1. Definitions and properties of the sample mean and median.\n",
        "2. How to compute the sample mean and median in Python.\n",
        "3. Definition and properties of the sample standard deviation.\n",
        "4. How to compute the sample standard deviation in Python.\n",
        "5. Definition and properties of the interquartile range.\n",
        "6. How to compute the interquartile range in Python.\n",
        "\n",
        "See the Canvas assignment for your assigned topic."
      ],
      "metadata": {
        "id": "OdKyuo9bj69A"
      }
    },
    {
      "cell_type": "markdown",
      "source": [
        "## Imports"
      ],
      "metadata": {
        "id": "Av8gH1UmMgFv"
      }
    },
    {
      "cell_type": "code",
      "execution_count": null,
      "metadata": {
        "id": "f9-cSwbcMJc7"
      },
      "outputs": [],
      "source": [
        "# Import pandas, numpy, and matplotlib\n",
        "import pandas as pd\n",
        "import numpy as np\n",
        "import matplotlib.pyplot as plt\n",
        "\n",
        "# seaborn is a data visualization library built on matplotlib\n",
        "import seaborn as sns \n",
        "\n",
        "# set the plotting style \n",
        "sns.set_style(\"whitegrid\")"
      ]
    },
    {
      "cell_type": "markdown",
      "source": [
        "## Import and set up the data set"
      ],
      "metadata": {
        "id": "hrNAfmwpMj2L"
      }
    },
    {
      "cell_type": "markdown",
      "source": [
        "##### $\\rightarrow$ Use Pandas to load the file `owid-co2-data.csv` from https://github.com/owid/co2-data as a `DataFrame`. Name the `DataFrame` `df`."
      ],
      "metadata": {
        "id": "aQxUj8ChtEGr"
      }
    },
    {
      "cell_type": "code",
      "source": [],
      "metadata": {
        "id": "AlaqeLhGM4TG"
      },
      "execution_count": null,
      "outputs": []
    },
    {
      "cell_type": "markdown",
      "source": [
        "##### $\\rightarrow$ Select the rows corresponding to individual countries "
      ],
      "metadata": {
        "id": "oQvGwApO35VP"
      }
    },
    {
      "cell_type": "markdown",
      "source": [
        "The `country` column of the data set contains some values that are groups of countries. We will remove these observations from the data set."
      ],
      "metadata": {
        "id": "CoBCrqDQK8RF"
      }
    },
    {
      "cell_type": "code",
      "source": [
        "non_countries = ['Africa', 'Africa (GCP)', 'Asia', 'Asia (GCP)', 'Asia (excl. China and India)', 'Central America (GCP)',\n",
        "                  'EU-27', 'Europe', 'Europe (excl. EU-27)', 'European Union (27) (GCP)', 'Europe (GCP)',\n",
        "                  'Europe (excl. EU-28)', 'European Union (27)', \n",
        "                  'European Union (28)', 'French Equatorial Africa', \n",
        "                  'French Guiana', 'French Polynesia', 'French West Africa',\n",
        "                  'High-income countries', 'International transport', \n",
        "                  'Low-income countries', 'Lower-middle-income countries', 'Mayotte', 'Middle East (GCP)',\n",
        "                  'Non-OECD (GCP)',\n",
        "                  'North America',  'North America (excl. USA)', 'North America (GCP)',\n",
        "                  'Oceania (GCP)', 'OECD (GCP)', \n",
        "                  'Panama Canal Zone','South America', 'South America (GCP)', 'Upper-middle-income countries', \n",
        "                  'World']"
      ],
      "metadata": {
        "id": "eD0vOVGQkTHq"
      },
      "execution_count": null,
      "outputs": []
    },
    {
      "cell_type": "markdown",
      "source": [
        "Remove the rows corresponding to the groups of countries."
      ],
      "metadata": {
        "id": "8gJuF0O9LoPY"
      }
    },
    {
      "cell_type": "code",
      "source": [],
      "metadata": {
        "id": "lQ7dJnuckWeA"
      },
      "execution_count": null,
      "outputs": []
    },
    {
      "cell_type": "markdown",
      "metadata": {
        "id": "6Ag9E9DkyIqD"
      },
      "source": [
        "## Visualize the distribution of CO$_2$ emissions per capita in 2010."
      ]
    },
    {
      "cell_type": "markdown",
      "source": [
        "### Make a histogram"
      ],
      "metadata": {
        "id": "QuyRqRnTcrDh"
      }
    },
    {
      "cell_type": "code",
      "metadata": {
        "id": "QPawDmyGyltU"
      },
      "source": [],
      "execution_count": null,
      "outputs": []
    },
    {
      "cell_type": "markdown",
      "source": [
        "# In Class Activity"
      ],
      "metadata": {
        "id": "wIR1prdRfA7e"
      }
    },
    {
      "cell_type": "markdown",
      "metadata": {
        "id": "CAYBL3Z9cP9S"
      },
      "source": [
        "## Activity 1: Quantify the center of the distribution of CO$_2$ emissions per capita in 2010"
      ]
    },
    {
      "cell_type": "markdown",
      "source": [
        "First select this subset of the data to make it easier to read"
      ],
      "metadata": {
        "id": "FkJ7AQhfg8Hb"
      }
    },
    {
      "cell_type": "code",
      "source": [
        "co2_2010 = "
      ],
      "metadata": {
        "id": "f5EdhKEZhEFh"
      },
      "execution_count": null,
      "outputs": []
    },
    {
      "cell_type": "markdown",
      "source": [
        "### Compute summary statistics using `.describe()`"
      ],
      "metadata": {
        "id": "kZf24YUjf4E8"
      }
    },
    {
      "cell_type": "code",
      "source": [],
      "metadata": {
        "id": "4asjRL40ehhv"
      },
      "execution_count": null,
      "outputs": []
    },
    {
      "cell_type": "markdown",
      "source": [
        "### Compute the mean and median "
      ],
      "metadata": {
        "id": "T4bUBPFGgPk0"
      }
    },
    {
      "cell_type": "markdown",
      "source": [
        "Compute the mean using the `.mean()` method and the `np.mean()` function."
      ],
      "metadata": {
        "id": "GariYvKdhNUK"
      }
    },
    {
      "cell_type": "markdown",
      "source": [
        "Compute the median using the `.median()` method and the `np.median()` function."
      ],
      "metadata": {
        "id": "yVHjCEsChdH3"
      }
    },
    {
      "cell_type": "markdown",
      "source": [
        "Compute the mean and median in one line using the `.agg()` method."
      ],
      "metadata": {
        "id": "ZgWTMLBzhuir"
      }
    },
    {
      "cell_type": "markdown",
      "source": [
        "## Computing summaries over groups using `groupby`"
      ],
      "metadata": {
        "id": "G6Hoeqh4sb7L"
      }
    },
    {
      "cell_type": "markdown",
      "source": [
        "Create a simple DataFrame to illustrate the operation"
      ],
      "metadata": {
        "id": "o4dend-fskHY"
      }
    },
    {
      "cell_type": "code",
      "source": [
        "data = pd.DataFrame({'x':[2, 4, 6, 8], 'group':['A','A','B','B']})\n",
        "\n",
        "data"
      ],
      "metadata": {
        "id": "mk-rsjBYsqeK"
      },
      "execution_count": null,
      "outputs": []
    },
    {
      "cell_type": "markdown",
      "source": [
        "The mean of $x$ in group A is 3 and the mean in group B is 7. We can compute these group means in pandas using"
      ],
      "metadata": {
        "id": "b1vIL5x0tBZm"
      }
    },
    {
      "cell_type": "code",
      "source": [
        "data.groupby('group').mean()"
      ],
      "metadata": {
        "id": "FdqK3_WWtK7g"
      },
      "execution_count": null,
      "outputs": []
    },
    {
      "cell_type": "markdown",
      "source": [
        "Compute and plot the median CO$_2$ emissions per capita in each year."
      ],
      "metadata": {
        "id": "TtAVVH1AtX2U"
      }
    },
    {
      "cell_type": "markdown",
      "source": [
        "**Return to the slides for Activity 2**"
      ],
      "metadata": {
        "id": "gh7Dq4WZh2Wq"
      }
    },
    {
      "cell_type": "markdown",
      "source": [
        "## Activity 8: Quantify the spread of the distribution of CO$_2$ emissions per capita in 2010"
      ],
      "metadata": {
        "id": "_mAaCedUgh8t"
      }
    },
    {
      "cell_type": "markdown",
      "source": [
        "### Compute the standard deviation"
      ],
      "metadata": {
        "id": "wKzIgNETgcU0"
      }
    },
    {
      "cell_type": "markdown",
      "source": [
        "Compute the standard deviation using the `.std()` method and the function `np.std()`"
      ],
      "metadata": {
        "id": "HFxdSZLji-J6"
      }
    },
    {
      "cell_type": "markdown",
      "source": [
        "Population standard deviation\n",
        "\n",
        "$$\\sqrt{\\frac{1}{n}\\sum_{i=1}^n(x_i - \\bar{x})^2}$$\n",
        "\n",
        "\n",
        "Sample standard deviation\n",
        "\n",
        "$$\\sqrt{\\frac{1}{n-1}\\sum_{i=1}^n(x_i - \\bar{x})^2}$$"
      ],
      "metadata": {
        "id": "50uViZ7ne-6I"
      }
    },
    {
      "cell_type": "markdown",
      "source": [
        "### Compute the interquartile range"
      ],
      "metadata": {
        "id": "QQJD6xR5hCSK"
      }
    },
    {
      "cell_type": "markdown",
      "source": [
        "Use `.quantile()` to compute the interquartile range"
      ],
      "metadata": {
        "id": "jHlkcDFjh4oj"
      }
    },
    {
      "cell_type": "markdown",
      "source": [
        "#### Write a function to compute the interquartile range"
      ],
      "metadata": {
        "id": "hw743seFh7kS"
      }
    },
    {
      "cell_type": "markdown",
      "source": [
        "#### Use the stats module from scipy to compute the interquartile range"
      ],
      "metadata": {
        "id": "FkYeAde7tRfw"
      }
    },
    {
      "cell_type": "code",
      "source": [
        "from scipy import stats"
      ],
      "metadata": {
        "id": "JIVNA7vcsUSO"
      },
      "execution_count": null,
      "outputs": []
    }
  ]
}